{
 "cells": [
  {
   "cell_type": "code",
   "execution_count": 1,
   "id": "434fb932",
   "metadata": {},
   "outputs": [
    {
     "name": "stdout",
     "output_type": "stream",
     "text": [
      "HHHeeellllllooo"
     ]
    }
   ],
   "source": [
    "wel = ('Hello')\n",
    "def func_name ():\n",
    "    for a in wel:\n",
    "        print(a*3,end=\"\")\n",
    "        \n",
    "func_name()        "
   ]
  },
  {
   "cell_type": "code",
   "execution_count": 2,
   "id": "f234790c",
   "metadata": {},
   "outputs": [
    {
     "name": "stdout",
     "output_type": "stream",
     "text": [
      "HHHeeellllllooo"
     ]
    }
   ],
   "source": [
    "for x in 'Hello':\n",
    "    print(x*3,end=\"\")"
   ]
  },
  {
   "cell_type": "code",
   "execution_count": 5,
   "id": "112dbedf",
   "metadata": {},
   "outputs": [
    {
     "name": "stdout",
     "output_type": "stream",
     "text": [
      "home am I\n"
     ]
    }
   ],
   "source": [
    "string = \"I am home\"\n",
    "\n",
    "words = string.split()\n",
    "\n",
    "words = list(reversed(words))\n",
    "\n",
    "print(\" \".join(words))"
   ]
  },
  {
   "cell_type": "code",
   "execution_count": 10,
   "id": "4bf3940a",
   "metadata": {},
   "outputs": [
    {
     "data": {
      "text/plain": [
       "'home am I'"
      ]
     },
     "execution_count": 10,
     "metadata": {},
     "output_type": "execute_result"
    }
   ],
   "source": [
    "func_name = ('I am home')\n",
    "def reverse(st):\n",
    "    s = st.split()\n",
    "    return ' '.join(s[::-1])\n",
    "reverse(st)"
   ]
  },
  {
   "cell_type": "code",
   "execution_count": 8,
   "id": "d7c1c9b2",
   "metadata": {},
   "outputs": [],
   "source": []
  },
  {
   "cell_type": "code",
   "execution_count": null,
   "id": "3a4caf38",
   "metadata": {},
   "outputs": [],
   "source": []
  },
  {
   "cell_type": "code",
   "execution_count": null,
   "id": "9e3481ae",
   "metadata": {},
   "outputs": [],
   "source": []
  }
 ],
 "metadata": {
  "kernelspec": {
   "display_name": "Python 3 (ipykernel)",
   "language": "python",
   "name": "python3"
  },
  "language_info": {
   "codemirror_mode": {
    "name": "ipython",
    "version": 3
   },
   "file_extension": ".py",
   "mimetype": "text/x-python",
   "name": "python",
   "nbconvert_exporter": "python",
   "pygments_lexer": "ipython3",
   "version": "3.9.12"
  }
 },
 "nbformat": 4,
 "nbformat_minor": 5
}
